{
 "cells": [
  {
   "cell_type": "code",
   "execution_count": null,
   "metadata": {},
   "outputs": [],
   "source": [
    "#librairie utile\n",
    "import seaborn as sn\n",
    "import matplotlib.pyplot as plt\n",
    "import pandas as pd\n",
    "from sklearn.model_selection import train_test_split\n",
    "import numpy as np"
   ]
  },
  {
   "cell_type": "code",
   "execution_count": null,
   "metadata": {},
   "outputs": [],
   "source": [
    "dataset = pd.read_csv(\"\")"
   ]
  },
  {
   "cell_type": "code",
   "execution_count": null,
   "metadata": {},
   "outputs": [],
   "source": [
    "#Suppression des variables derivées et non contextuelles après analyse (correlation, logique,....)\n",
    "dataset.drop(['col1_name', 'col2_name'], axis='columns', inplace=True)"
   ]
  },
  {
   "cell_type": "code",
   "execution_count": null,
   "metadata": {},
   "outputs": [],
   "source": [
    "#Liste des variables retenues\n",
    "list(dataset)"
   ]
  },
  {
   "cell_type": "code",
   "execution_count": null,
   "metadata": {},
   "outputs": [],
   "source": [
    "df.info()"
   ]
  },
  {
   "cell_type": "code",
   "execution_count": null,
   "metadata": {},
   "outputs": [],
   "source": [
    "# Taille et data types of the data\n",
    "\n",
    "print(dataset.dtypes)\n",
    "\n",
    "print()\n",
    "# select numeric columns\n",
    "print('Numerical columns:')\n",
    "df_numeric = dataset.select_dtypes(include=[np.number])\n",
    "numeric_cols = df_numeric.columns.values\n",
    "print(numeric_cols)\n",
    "\n",
    "# select non numeric columns\n",
    "print('Categorical columns:')\n",
    "df_cat = dataset.select_dtypes(exclude=[np.number])\n",
    "cat = df_cat.columns.values\n",
    "print(cat)\n",
    "\n",
    "print()\n",
    "print('Shape of this df is:')\n",
    "print(dataset.shape)"
   ]
  },
  {
   "cell_type": "code",
   "execution_count": null,
   "metadata": {},
   "outputs": [],
   "source": [
    "#https://github.com/iskandr/fancyimpute\n",
    "#remplacer les NaN \n",
    "!pip install fancyimpute\n",
    "\n",
    "from fancyimpute import KNN, NuclearNormMinimization\n",
    "\n",
    "# X is the complete data matrix\n",
    "# X_incomplete has the same values as X except a subset have been replace with NaN\n",
    "\n",
    "# Use 3 nearest rows which have a feature to fill in each row's missing features\n",
    "X_filled_knn = KNN(k=3).fit_transform(X_incomplete)\n",
    "\n",
    "# matrix completion using convex optimization to find low-rank solution\n",
    "# that still matches observed values. Slow!\n",
    "X_filled_nnm = NuclearNormMinimization().fit_transform(X_incomplete)\n"
   ]
  },
  {
   "cell_type": "code",
   "execution_count": null,
   "metadata": {},
   "outputs": [],
   "source": [
    "# Remplacer les NaN en utilisant la médiane\n",
    "median = dataset['col_name'].median()\n",
    "dataset['col_name'].fillna(median, inplace=True)\n",
    "\n",
    "# Remplacer les NaN en utilisant la moyenne\n",
    "moyenne = dataset['col_name'].median()\n",
    "dataset['col_name'].fillna(moyenne, inplace=True)"
   ]
  },
  {
   "cell_type": "code",
   "execution_count": null,
   "metadata": {},
   "outputs": [],
   "source": [
    "#getting the one hot encode variables\n",
    "dataset = pd.get_dummies(data = df,drop_first=True) "
   ]
  },
  {
   "cell_type": "code",
   "execution_count": null,
   "metadata": {},
   "outputs": [],
   "source": [
    "dataset.head()"
   ]
  },
  {
   "cell_type": "markdown",
   "metadata": {},
   "source": [
    "### Feature Selection"
   ]
  },
  {
   "cell_type": "code",
   "execution_count": null,
   "metadata": {},
   "outputs": [],
   "source": [
    "#calculating the correlation matrix\n",
    "plt.figure(figsize=(8, 10))\n",
    "sns.heatmap(df.corr()[['Selling_Price']].sort_values(by='Selling_Price'), \n",
    "                    annot=True, \n",
    "                    cmap='coolwarm', \n",
    "                    vmin=-1,\n",
    "                    vmax=1) "
   ]
  },
  {
   "cell_type": "code",
   "execution_count": null,
   "metadata": {},
   "outputs": [],
   "source": [
    "#use for regression model\n",
    "# We see that there is a nulticollinearity between the selected independent variables\n",
    "#We need to check the inflation factor to make sure we can use the features\n",
    "\n",
    "#Lets drop the target dependent feature\n",
    "X = df.drop('Selling_Price', axis = 1)\n",
    "\n",
    "#Lets scale the features\n",
    "from sklearn.preprocessing import StandardScaler\n",
    "sc = StandardScaler()\n",
    "X_train_st = sc.fit_transform(X)\n",
    "#X_test_std = sc_x.transform(X_test)\n",
    "\n",
    "\n",
    "# Checking for the VIF values of the variables. \n",
    "from statsmodels.stats.outliers_influence import variance_inflation_factor\n",
    "\n",
    "\n",
    "# Creating a dataframe that will contain the names of all the feature variables and their VIFs\n",
    "vif = pd.DataFrame()\n",
    "vif['Features'] = X.columns\n",
    "vif['VIF'] = [variance_inflation_factor(X_train_st, i) for i in range(X_train_st.shape[1])]\n",
    "vif['VIF'] = round(vif['VIF'], 2)\n",
    "vif = vif.sort_values(by = \"VIF\", ascending = False)\n",
    "vif"
   ]
  },
  {
   "cell_type": "code",
   "execution_count": 1,
   "metadata": {},
   "outputs": [],
   "source": [
    "###VIF must of each variable must be less than 5, or ideally less than 2, for the safety of predictions"
   ]
  },
  {
   "cell_type": "code",
   "execution_count": null,
   "metadata": {},
   "outputs": [],
   "source": [
    "#boxplot pour voir les valeurs aberrantes\n",
    "num_cols = ['Selling_Price','Present_Price']\n",
    "\n",
    "for i in range(2):\n",
    "    fig = plt.figure(figsize=[15,4])\n",
    "\n",
    "    sns.boxplot(x=num_cols[i], data=df)\n",
    "    plt.show()"
   ]
  },
  {
   "cell_type": "markdown",
   "metadata": {},
   "source": [
    "### feature Engineering"
   ]
  },
  {
   "cell_type": "code",
   "execution_count": null,
   "metadata": {},
   "outputs": [],
   "source": [
    "#calculating the Interquartile range of Selling_Price\n",
    "IQR=df1.Selling_Price.quantile(0.75)-df1.Selling_Price.quantile(0.25)\n",
    "\n",
    "#calculating the borders of the normal distribution of Selling_Price\n",
    "lower_bridge=df1['Selling_Price'].quantile(0.25)-(IQR*1.5)\n",
    "upper_bridge=df1['Selling_Price'].quantile(0.75)+(IQR*1.5)\n",
    "\n",
    "#Inpute the outliers with the max values that are present for the normal distribution of Selling_Price\n",
    "df1.loc[df1['Selling_Price']>=upper_bridge,'Selling_Price']=upper_bridge"
   ]
  },
  {
   "cell_type": "code",
   "execution_count": null,
   "metadata": {},
   "outputs": [],
   "source": [
    "#calculating the Interquartile range of Present_Price\n",
    "IQR=df1.Present_Price.quantile(0.75)-df.Present_Price.quantile(0.25)\n",
    "\n",
    "#calculating the borders of the normal distribution of Present_Price\n",
    "lower_bridge=df1['Present_Price'].quantile(0.25)-(IQR*1.5)\n",
    "upper_bridge=df1['Present_Price'].quantile(0.75)+(IQR*1.5)\n",
    "\n",
    "#Inpute the outliers with the max values that are present for the normal distribution of Present_Price\n",
    "df1.loc[df1['Present_Price']>=upper_bridge,'Present_Price']=upper_bridge"
   ]
  },
  {
   "cell_type": "code",
   "execution_count": null,
   "metadata": {},
   "outputs": [],
   "source": [
    "num_cols = ['Selling_Price','Present_Price']\n",
    "\n",
    "for i in range(2):\n",
    "    fig = plt.figure(figsize=[15,4])\n",
    "\n",
    "    sns.boxplot(x=num_cols[i], data=df1)\n",
    "\n",
    "    plt.show()"
   ]
  },
  {
   "cell_type": "markdown",
   "metadata": {},
   "source": [
    "### prediction probability"
   ]
  },
  {
   "cell_type": "code",
   "execution_count": 5,
   "metadata": {},
   "outputs": [
    {
     "name": "stdout",
     "output_type": "stream",
     "text": [
      "X=[-0.79415228  2.10495117], Predicted=[0.99467199 0.00532801]\n",
      "X=[-8.25290074 -4.71455545], Predicted=[0.00223842 0.99776158]\n",
      "X=[-2.18773166  3.33352125], Predicted=[0.99389073 0.00610927]\n"
     ]
    }
   ],
   "source": [
    "# example of making multiple probability predictions\n",
    "from sklearn.linear_model import LogisticRegression\n",
    "from sklearn.datasets import make_blobs\n",
    "# generate 2d classification dataset\n",
    "X, y = make_blobs(n_samples=100, centers=2, n_features=2, random_state=1)\n",
    "# fit final model\n",
    "model = LogisticRegression()\n",
    "model.fit(X, y)\n",
    "# new instances where we do not know the answer\n",
    "Xnew, a = make_blobs(n_samples=3, centers=2, n_features=2, random_state=1)\n",
    "# make a prediction\n",
    "ynew = model.predict_proba(Xnew)\n",
    "# show the inputs and predicted probabilities\n",
    "for i in range(len(Xnew)):\n",
    "\tprint(\"X=%s, Predicted=%s\" % (Xnew[i], ynew[i]))"
   ]
  },
  {
   "cell_type": "code",
   "execution_count": 6,
   "metadata": {},
   "outputs": [
    {
     "data": {
      "text/plain": [
       "array([0, 1, 0])"
      ]
     },
     "execution_count": 6,
     "metadata": {},
     "output_type": "execute_result"
    }
   ],
   "source": [
    "a"
   ]
  },
  {
   "cell_type": "code",
   "execution_count": 1,
   "metadata": {},
   "outputs": [
    {
     "ename": "SyntaxError",
     "evalue": "invalid syntax (<ipython-input-1-882bb6fd22e4>, line 1)",
     "output_type": "error",
     "traceback": [
      "\u001b[1;36m  File \u001b[1;32m\"<ipython-input-1-882bb6fd22e4>\"\u001b[1;36m, line \u001b[1;32m1\u001b[0m\n\u001b[1;33m    <pre class=\"wp-block-syntaxhighlighter-code\">nycBox = (-74.3, -73.7, 40.5, 40.9)\u001b[0m\n\u001b[1;37m    ^\u001b[0m\n\u001b[1;31mSyntaxError\u001b[0m\u001b[1;31m:\u001b[0m invalid syntax\n"
     ]
    }
   ],
   "source": [
    "<pre class=\"wp-block-syntaxhighlighter-code\">nycBox = (-74.3, -73.7, 40.5, 40.9)"
   ]
  },
  {
   "cell_type": "code",
   "execution_count": null,
   "metadata": {},
   "outputs": [],
   "source": []
  }
 ],
 "metadata": {
  "kernelspec": {
   "display_name": "Python 3",
   "language": "python",
   "name": "python3"
  },
  "language_info": {
   "codemirror_mode": {
    "name": "ipython",
    "version": 3
   },
   "file_extension": ".py",
   "mimetype": "text/x-python",
   "name": "python",
   "nbconvert_exporter": "python",
   "pygments_lexer": "ipython3",
   "version": "3.7.7"
  }
 },
 "nbformat": 4,
 "nbformat_minor": 4
}
